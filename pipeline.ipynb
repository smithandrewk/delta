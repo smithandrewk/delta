{
 "cells": [
  {
   "cell_type": "code",
   "execution_count": 39,
   "metadata": {},
   "outputs": [
    {
     "name": "stdout",
     "output_type": "stream",
     "text": [
      "179173\n",
      "count    179172.000000\n",
      "mean          0.396411\n",
      "std           9.468782\n",
      "min           0.000003\n",
      "25%           0.220000\n",
      "50%           0.220000\n",
      "75%           0.220000\n",
      "max         513.680000\n",
      "Name: delta, dtype: float64\n",
      "              timestamp     acc_x     acc_y     acc_z      real time activity  \\\n",
      "0       187379899891333 -0.167480 -0.385254  9.742188  1658352657738     None   \n",
      "1       187379909791333 -0.174683 -0.390137  9.734375  1658352657738     None   \n",
      "2       187379919691333 -0.160400 -0.308838  9.742188  1658352657917     None   \n",
      "3       187379929591333 -0.143555 -0.284668  9.734375  1658352657917     None   \n",
      "4       187379939491333 -0.165161 -0.337402  9.765625  1658352657918     None   \n",
      "...                 ...       ...       ...       ...            ...      ...   \n",
      "179168  258404779038026 -1.792969 -0.368652  9.632812  1658423682449     None   \n",
      "179169  258404979038026 -1.797852 -0.380615  9.609375  1658423682651     None   \n",
      "179170  258405179038026 -1.816406 -0.375732  9.617188  1658423682849     None   \n",
      "179171  258405379038026 -1.819336 -0.373291  9.632812  1658423683049     None   \n",
      "179172  258405579038026 -1.797852 -0.366211  9.617188  1658423683248     None   \n",
      "\n",
      "             human time   delta  \n",
      "0        0:00:00.066000     NaN  \n",
      "1        0:00:00.066000  0.0099  \n",
      "2        0:00:00.245000  0.0099  \n",
      "3        0:00:00.245000  0.0099  \n",
      "4        0:00:00.246000  0.0099  \n",
      "...                 ...     ...  \n",
      "179168  19:43:44.777000  0.2000  \n",
      "179169  19:43:44.979000  0.2000  \n",
      "179170  19:43:45.177000  0.2000  \n",
      "179171  19:43:45.377000  0.2000  \n",
      "179172  19:43:45.576000  0.2000  \n",
      "\n",
      "[179173 rows x 8 columns]\n"
     ]
    }
   ],
   "source": [
    "import pandas as pd\n",
    "from collections import Counter\n",
    "import os\n",
    "import seaborn as sns\n",
    "import matplotlib.pyplot as plt\n",
    "from datetime import timedelta\n",
    "import numpy as np\n",
    "from scipy import stats\n",
    "\n",
    "\n",
    "data_dir = f'data'\n",
    "project = 'battery-life-exp5'\n",
    "dir = f'{data_dir}/{project}'\n",
    "\n",
    "df = pd.DataFrame()\n",
    "for file in os.listdir(dir):\n",
    "    if file.startswith('Session'):\n",
    "        with open(f'{dir}/{file}') as f:\n",
    "            starttime_millis = int(f.readline().rstrip()[17:])\n",
    "        session = pd.read_csv(f'{dir}/{file}', skiprows=1)\n",
    "    else:\n",
    "        tmp = pd.read_csv(f'{dir}/{file}', skiprows=1)\n",
    "        df = pd.concat([df, tmp], ignore_index=True)\n",
    "df = df.sort_values(by=['timestamp'], ignore_index=True)\n",
    "\n",
    "df = df.loc[:len(df)/2, :]\n",
    "\n",
    "\n",
    "print(len(df))\n",
    "# get readable time (delta from start time)\n",
    "real_times = []\n",
    "for time_millis in df['real time']:\n",
    "    delta = (time_millis - starttime_millis) # convert to seconds\n",
    "    real_times.append(str(timedelta(milliseconds=delta)))\n",
    "df['human time'] = real_times\n",
    "\n",
    "# get time delta at each sample\n",
    "deltas = []\n",
    "for i, timestamp in enumerate(df['timestamp']):\n",
    "    if i == 0:\n",
    "        deltas.append(np.nan)\n",
    "        continue\n",
    "    # get time since last sample, convert to Hz\n",
    "    deltas.append( (df['timestamp'][i] - df['timestamp'][i-1]) / 1e9)\n",
    "df['delta'] = deltas\n",
    "\n",
    "df.to_csv(f'{data_dir}/processed/{project}-processed.csv')\n",
    "\n",
    "print(df['delta'].describe())\n",
    "print(df)\n",
    "import plotly.express as px\n",
    "\n",
    "fig = px.line(df, x='human time', y='delta', title='Time delta', \n",
    "                labels={'human time': 'Time', \n",
    "                        'delta': 'Time delta (s)'})\n",
    "fig.show(renderer='browser')\n"
   ]
  }
 ],
 "metadata": {
  "kernelspec": {
   "display_name": "Python 3.8.10 64-bit",
   "language": "python",
   "name": "python3"
  },
  "language_info": {
   "codemirror_mode": {
    "name": "ipython",
    "version": 3
   },
   "file_extension": ".py",
   "mimetype": "text/x-python",
   "name": "python",
   "nbconvert_exporter": "python",
   "pygments_lexer": "ipython3",
   "version": "3.8.10"
  },
  "orig_nbformat": 4,
  "vscode": {
   "interpreter": {
    "hash": "31f2aee4e71d21fbe5cf8b01ff0e069b9275f58929596ceb00d14d90e3e16cd6"
   }
  }
 },
 "nbformat": 4,
 "nbformat_minor": 2
}

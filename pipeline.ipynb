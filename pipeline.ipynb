{
 "cells": [
  {
   "cell_type": "code",
   "execution_count": null,
   "metadata": {},
   "outputs": [],
   "source": [
    "import pandas as pd\n",
    "from collections import Counter\n",
    "import os\n",
    "import seaborn as sns\n",
    "import matplotlib.pyplot as plt\n",
    "from datetime import timedelta\n",
    "import numpy as np\n",
    "from scipy import stats\n",
    "\n",
    "\n",
    "data_dir = f'data'\n",
    "project = 'battery-life-exp5'\n",
    "dir = f'{data_dir}/{project}'\n",
    "\n",
    "df = pd.DataFrame()\n",
    "for file in os.listdir(dir):\n",
    "    if file.startswith('Session'):\n",
    "        with open(f'{dir}/{file}') as f:\n",
    "            starttime_millis = int(f.readline().rstrip()[17:])\n",
    "        session = pd.read_csv(f'{dir}/{file}', skiprows=1)\n",
    "    else:\n",
    "        tmp = pd.read_csv(f'{dir}/{file}', skiprows=1)\n",
    "        df = pd.concat([df, tmp], ignore_index=True)\n",
    "df = df.sort_values(by=['timestamp'], ignore_index=True)\n",
    "\n",
    "df = df.loc[:len(df)/2, :]\n",
    "\n",
    "\n",
    "print(len(df))\n",
    "# get readable time (delta from start time)\n",
    "real_times = []\n",
    "for time_millis in df['real time']:\n",
    "    delta = (time_millis - starttime_millis) # convert to seconds\n",
    "    real_times.append(str(timedelta(milliseconds=delta)))\n",
    "df['human time'] = real_times\n",
    "\n",
    "# get time delta at each sample\n",
    "deltas = []\n",
    "for i, timestamp in enumerate(df['timestamp']):\n",
    "    if i == 0:\n",
    "        deltas.append(np.nan)\n",
    "        continue\n",
    "    # get time since last sample, convert to Hz\n",
    "    deltas.append( (df['timestamp'][i] - df['timestamp'][i-1]) / 1e9)\n",
    "df['delta'] = deltas\n",
    "\n",
    "df.to_csv(f'{data_dir}/processed/{project}-processed.csv')\n",
    "\n",
    "print(df['delta'].describe())\n",
    "print(df)\n",
    "import plotly.express as px\n",
    "\n",
    "fig = px.line(df, x='human time', y='delta', title='Time delta', \n",
    "                labels={'human time': 'Time', \n",
    "                        'delta': 'Time delta (s)'})\n",
    "fig.show(renderer='browser')\n"
   ]
  }
 ],
 "metadata": {
  "kernelspec": {
   "display_name": "Python 3.8.10 64-bit",
   "language": "python",
   "name": "python3"
  },
  "language_info": {
   "codemirror_mode": {
    "name": "ipython",
    "version": 3
   },
   "file_extension": ".py",
   "mimetype": "text/x-python",
   "name": "python",
   "nbconvert_exporter": "python",
   "pygments_lexer": "ipython3",
   "version": "3.8.10"
  },
  "orig_nbformat": 4,
  "vscode": {
   "interpreter": {
    "hash": "31f2aee4e71d21fbe5cf8b01ff0e069b9275f58929596ceb00d14d90e3e16cd6"
   }
  }
 },
 "nbformat": 4,
 "nbformat_minor": 2
}

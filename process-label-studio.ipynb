{
 "cells": [
  {
   "cell_type": "code",
   "execution_count": 19,
   "metadata": {},
   "outputs": [
    {
     "name": "stdout",
     "output_type": "stream",
     "text": [
      "179173\n"
     ]
    }
   ],
   "source": [
    "import pandas as pd\n",
    "from collections import Counter\n",
    "import os\n",
    "import seaborn as sns\n",
    "import matplotlib.pyplot as plt\n",
    "from datetime import timedelta\n",
    "import numpy as np\n",
    "from scipy import stats\n",
    "\n",
    "data_dir = 'data/battery-life-exp5'\n",
    "min_occurances = 0\n",
    "\n",
    "df = pd.DataFrame()\n",
    "for file in os.listdir(data_dir):\n",
    "    if file.startswith('Session'):\n",
    "        with open(f'{data_dir}/{file}') as f:\n",
    "            starttime_millis = int(f.readline().rstrip()[17:])\n",
    "        session = pd.read_csv(f'{data_dir}/{file}', skiprows=1)\n",
    "    else:\n",
    "        tmp = pd.read_csv(f'{data_dir}/{file}', skiprows=1)\n",
    "        df = pd.concat([df, tmp], ignore_index=True)\n",
    "df = df.sort_values(by=['timestamp'], ignore_index=True)\n",
    "\n",
    "# get readable time (delta from start time)\n",
    "real_times = []\n",
    "for time_millis in df['real time']:\n",
    "    delta = (time_millis - starttime_millis)\n",
    "    real_times.append(str(timedelta(milliseconds=delta)))\n",
    "df['real time formatted'] = real_times\n",
    "\n",
    "# Get offset to real time\n",
    "df.to_csv(f'processed-{data_dir.split(\"/\")[1]}.csv')\n"
   ]
  }
 ],
 "metadata": {
  "kernelspec": {
   "display_name": "Python 3.8.10 64-bit",
   "language": "python",
   "name": "python3"
  },
  "language_info": {
   "codemirror_mode": {
    "name": "ipython",
    "version": 3
   },
   "file_extension": ".py",
   "mimetype": "text/x-python",
   "name": "python",
   "nbconvert_exporter": "python",
   "pygments_lexer": "ipython3",
   "version": "3.8.10"
  },
  "orig_nbformat": 4,
  "vscode": {
   "interpreter": {
    "hash": "31f2aee4e71d21fbe5cf8b01ff0e069b9275f58929596ceb00d14d90e3e16cd6"
   }
  }
 },
 "nbformat": 4,
 "nbformat_minor": 2
}

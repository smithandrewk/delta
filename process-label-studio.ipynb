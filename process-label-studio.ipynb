{
 "cells": [
  {
   "cell_type": "code",
   "execution_count": 13,
   "metadata": {},
   "outputs": [
    {
     "name": "stdout",
     "output_type": "stream",
     "text": [
      "179173\n"
     ]
    }
   ],
   "source": [
    "import pandas as pd\n",
    "from collections import Counter\n",
    "import os\n",
    "import seaborn as sns\n",
    "import matplotlib.pyplot as plt\n",
    "from datetime import timedelta\n",
    "import numpy as np\n",
    "from scipy import stats\n",
    "\n",
    "data_dir = 'data/battery-life-exp5'\n",
    "\n",
    "df = pd.DataFrame()\n",
    "for file in os.listdir(data_dir):\n",
    "    if file.startswith('Session'):\n",
    "        with open(f'{data_dir}/{file}') as f:\n",
    "            starttime_millis = int(f.readline().rstrip()[17:])\n",
    "        session = pd.read_csv(f'{data_dir}/{file}', skiprows=1)\n",
    "    else:\n",
    "        tmp = pd.read_csv(f'{data_dir}/{file}', skiprows=1)\n",
    "        df = pd.concat([df, tmp], ignore_index=True)\n",
    "df = df.sort_values(by=['timestamp'], ignore_index=True)\n",
    "\n",
    "print(len(df))\n",
    "# get readable time (delta from start time)\n",
    "\n",
    "#convert to millis\n",
    "timestamp_formatted = []\n",
    "offset = df['timestamp'][0]\n",
    "for time in df['timestamp']:\n",
    "    new_time = str(timedelta(microseconds=((time-offset)/1000)))\n",
    "    timestamp_formatted.append(new_time)\n",
    "\n",
    "df['timestamp_formatted'] = timestamp_formatted\n",
    "\n",
    "df.to_csv(f'processed-{data_dir.replace(\"/\", \"_\")}.csv')"
   ]
  }
 ],
 "metadata": {
  "kernelspec": {
   "display_name": "Python 3.8.10 64-bit",
   "language": "python",
   "name": "python3"
  },
  "language_info": {
   "codemirror_mode": {
    "name": "ipython",
    "version": 3
   },
   "file_extension": ".py",
   "mimetype": "text/x-python",
   "name": "python",
   "nbconvert_exporter": "python",
   "pygments_lexer": "ipython3",
   "version": "3.8.10"
  },
  "orig_nbformat": 4,
  "vscode": {
   "interpreter": {
    "hash": "31f2aee4e71d21fbe5cf8b01ff0e069b9275f58929596ceb00d14d90e3e16cd6"
   }
  }
 },
 "nbformat": 4,
 "nbformat_minor": 2
}
